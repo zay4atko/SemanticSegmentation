{
 "cells": [
  {
   "cell_type": "markdown",
   "id": "3b575ac4-67e4-48d3-bcb3-600dc4db9d84",
   "metadata": {},
   "source": [
    "Create and save masks for Semantic Segmentation models,\n",
    "given aerial images and buildings coordinates."
   ]
  },
  {
   "cell_type": "code",
   "execution_count": 30,
   "id": "ee67fbb7-6575-4888-a16f-979cf3154467",
   "metadata": {},
   "outputs": [],
   "source": [
    "import pandas as pd\n",
    "import numpy as np\n",
    "import os\n",
    "from PIL import Image, ImageDraw, ImageOps\n",
    "import json"
   ]
  },
  {
   "cell_type": "markdown",
   "id": "c32a04ef-29a1-4ebe-9ac4-8be82ab4b748",
   "metadata": {},
   "source": [
    "define helper functions"
   ]
  },
  {
   "cell_type": "code",
   "execution_count": 6,
   "id": "610bc129-bd55-4971-bf49-679c377c4357",
   "metadata": {},
   "outputs": [],
   "source": [
    "#file names look like 'swissimage-dop10_2019_X_Y_4.0_2056.tif', where X and Y are left bottom corner coordinates\n",
    "def get_image_coordinates(filename):\n",
    "    xy = []\n",
    "    xy.append(int(filename.split('_')[2]))\n",
    "    xy.append(int(filename.split('_')[3]))\n",
    "    return tuple(xy)"
   ]
  },
  {
   "cell_type": "code",
   "execution_count": 7,
   "id": "0640e8e2-9249-494d-9ad7-cc66492dc076",
   "metadata": {},
   "outputs": [],
   "source": [
    "def get_file_names(path):\n",
    "    filenames = []\n",
    "    for file in os.listdir(path):\n",
    "        name, extension = os.path.splitext(file)\n",
    "        if extension == '.tif':\n",
    "            filenames.append(file)\n",
    "    return filenames"
   ]
  },
  {
   "cell_type": "code",
   "execution_count": 8,
   "id": "357e80f2-509f-4e5d-a3b2-88a56ae10b03",
   "metadata": {},
   "outputs": [],
   "source": [
    "#create list of buildings with relative coordinates for each image, \n",
    "#xy - coordinates from file name \n",
    "#img_size_coord - size of image in swiss coordinates\n",
    "#img_size - resolution in pixels\n",
    "def buildings_one_img(img_x, img_y, img_size_coord, img_size):\n",
    "    scale = img_size/img_size_coord\n",
    "    tmp = data[(data.max_Y>=img_y) & (data.min_Y<(img_y+img_size_coord)) & (data.max_X >= img_x) & (data.min_X < (img_x+img_size_coord))]\n",
    "    X_relative, Y_relative, XY_relative = [], [], []\n",
    "    for x in tmp.X:\n",
    "        x_tmp = []\n",
    "        for i in x:\n",
    "            x_tmp.append((i- img_x)*scale)\n",
    "        X_relative.append(x_tmp)\n",
    "    for y in tmp.Y:\n",
    "        y_tmp = []\n",
    "        for i in y:\n",
    "            y_tmp.append(img_size - ((i - img_y)*scale))\n",
    "        Y_relative.append(y_tmp)\n",
    "    for i in range(len(X_relative)):\n",
    "        XY_relative.append(list(zip(X_relative[i], Y_relative[i])))\n",
    "    res = list(zip(tmp['art'], XY_relative))\n",
    "    return res"
   ]
  },
  {
   "cell_type": "code",
   "execution_count": 9,
   "id": "67530432-5f40-48d6-bd0d-e19b1e6175f6",
   "metadata": {},
   "outputs": [],
   "source": [
    "#draw and save mask\n",
    "#file - file name\n",
    "#path_to_save_mask\n",
    "#img_buildings_dict - dictionary of all buildings for each image\n",
    "def save_mask(file, path_to_save_mask, img_buildings_dict, img_size):\n",
    "    empty_img, input_img, target = [], [], []\n",
    "    name, extension = os.path.splitext(file)\n",
    "    if extension == '.tif':\n",
    "        im = Image.new(\"L\", (img_size, img_size))\n",
    "        if not img_buildings_dict[file]:\n",
    "            empty_img.append(file)\n",
    "        else:\n",
    "            input_img.append(file)\n",
    "            target.append('mask_' + file)\n",
    "            #im = Image.open(f + file) \n",
    "            draw = ImageDraw.Draw(im)\n",
    "            for building in img_buildings_dict[file]:\n",
    "                #draw.polygon(building[1], fill=colors[building[0]])\n",
    "                draw.polygon([tuple(x) for x in building[1]], fill=class_colors[building[0]]) #outline=123 color\n",
    "            im.save(path_to_save_mask + 'mask_' + file)"
   ]
  },
  {
   "cell_type": "markdown",
   "id": "8e39e10c-3af5-4c56-9a9a-b8e0aee8d664",
   "metadata": {},
   "source": [
    "load DataFrame with all buildings and coordinates"
   ]
  },
  {
   "cell_type": "code",
   "execution_count": 2,
   "id": "eea9b649-698d-4b18-8dd1-283e68e59438",
   "metadata": {},
   "outputs": [],
   "source": [
    "data = pd.read_json('./data/buildings_projects_minmax.json')"
   ]
  },
  {
   "cell_type": "code",
   "execution_count": 3,
   "id": "f8cfa16f-c0a7-462e-9793-33e8447822fc",
   "metadata": {},
   "outputs": [
    {
     "data": {
      "text/html": [
       "<div>\n",
       "<style scoped>\n",
       "    .dataframe tbody tr th:only-of-type {\n",
       "        vertical-align: middle;\n",
       "    }\n",
       "\n",
       "    .dataframe tbody tr th {\n",
       "        vertical-align: top;\n",
       "    }\n",
       "\n",
       "    .dataframe thead th {\n",
       "        text-align: right;\n",
       "    }\n",
       "</style>\n",
       "<table border=\"1\" class=\"dataframe\">\n",
       "  <thead>\n",
       "    <tr style=\"text-align: right;\">\n",
       "      <th></th>\n",
       "      <th>OBJID</th>\n",
       "      <th>art</th>\n",
       "      <th>XY</th>\n",
       "      <th>X</th>\n",
       "      <th>Y</th>\n",
       "      <th>max_X</th>\n",
       "      <th>min_X</th>\n",
       "      <th>max_Y</th>\n",
       "      <th>min_Y</th>\n",
       "    </tr>\n",
       "  </thead>\n",
       "  <tbody>\n",
       "    <tr>\n",
       "      <th>0</th>\n",
       "      <td>2862</td>\n",
       "      <td>Wohnen</td>\n",
       "      <td>[[2678936.554, 1237294.736], [2678936.521, 123...</td>\n",
       "      <td>[2678936.554, 2678936.521, 2678936.487, 267893...</td>\n",
       "      <td>[1237294.736, 1237294.7010000001, 1237294.668,...</td>\n",
       "      <td>2678941.837</td>\n",
       "      <td>2678908.705</td>\n",
       "      <td>1237322.447</td>\n",
       "      <td>1237292.967</td>\n",
       "    </tr>\n",
       "    <tr>\n",
       "      <th>1</th>\n",
       "      <td>2859</td>\n",
       "      <td>Nebengebaeude</td>\n",
       "      <td>[[2679333.7430000002, 1235704.501], [2679337.1...</td>\n",
       "      <td>[2679333.7430000002, 2679337.153, 2679343.293,...</td>\n",
       "      <td>[1235704.501, 1235708.382, 1235713.8460000001,...</td>\n",
       "      <td>2679346.373</td>\n",
       "      <td>2679333.743</td>\n",
       "      <td>1235713.846</td>\n",
       "      <td>1235701.348</td>\n",
       "    </tr>\n",
       "    <tr>\n",
       "      <th>2</th>\n",
       "      <td>2853</td>\n",
       "      <td>Wohnen</td>\n",
       "      <td>[[2679352.15, 1235695.063], [2679352.017, 1235...</td>\n",
       "      <td>[2679352.15, 2679352.017, 2679351.884, 2679339...</td>\n",
       "      <td>[1235695.063, 1235694.913, 1235694.763, 123568...</td>\n",
       "      <td>2679352.150</td>\n",
       "      <td>2679326.308</td>\n",
       "      <td>1235703.172</td>\n",
       "      <td>1235676.180</td>\n",
       "    </tr>\n",
       "    <tr>\n",
       "      <th>3</th>\n",
       "      <td>2845</td>\n",
       "      <td>Wohnen</td>\n",
       "      <td>[[2679184.73, 1235881.311], [2679184.784, 1235...</td>\n",
       "      <td>[2679184.73, 2679184.784, 2679190.44, 2679190....</td>\n",
       "      <td>[1235881.311, 1235881.4070000001, 1235891.368,...</td>\n",
       "      <td>2679198.523</td>\n",
       "      <td>2679184.730</td>\n",
       "      <td>1235891.613</td>\n",
       "      <td>1235876.798</td>\n",
       "    </tr>\n",
       "    <tr>\n",
       "      <th>4</th>\n",
       "      <td>2839</td>\n",
       "      <td>Wohnen</td>\n",
       "      <td>[[2679354.201, 1235437.204], [2679348.918, 123...</td>\n",
       "      <td>[2679354.201, 2679348.918, 2679353.835, 267935...</td>\n",
       "      <td>[1235437.204, 1235439.942, 1235449.409, 123544...</td>\n",
       "      <td>2679359.121</td>\n",
       "      <td>2679348.918</td>\n",
       "      <td>1235449.409</td>\n",
       "      <td>1235437.204</td>\n",
       "    </tr>\n",
       "  </tbody>\n",
       "</table>\n",
       "</div>"
      ],
      "text/plain": [
       "  OBJID            art                                                 XY  \\\n",
       "0  2862         Wohnen  [[2678936.554, 1237294.736], [2678936.521, 123...   \n",
       "1  2859  Nebengebaeude  [[2679333.7430000002, 1235704.501], [2679337.1...   \n",
       "2  2853         Wohnen  [[2679352.15, 1235695.063], [2679352.017, 1235...   \n",
       "3  2845         Wohnen  [[2679184.73, 1235881.311], [2679184.784, 1235...   \n",
       "4  2839         Wohnen  [[2679354.201, 1235437.204], [2679348.918, 123...   \n",
       "\n",
       "                                                   X  \\\n",
       "0  [2678936.554, 2678936.521, 2678936.487, 267893...   \n",
       "1  [2679333.7430000002, 2679337.153, 2679343.293,...   \n",
       "2  [2679352.15, 2679352.017, 2679351.884, 2679339...   \n",
       "3  [2679184.73, 2679184.784, 2679190.44, 2679190....   \n",
       "4  [2679354.201, 2679348.918, 2679353.835, 267935...   \n",
       "\n",
       "                                                   Y        max_X  \\\n",
       "0  [1237294.736, 1237294.7010000001, 1237294.668,...  2678941.837   \n",
       "1  [1235704.501, 1235708.382, 1235713.8460000001,...  2679346.373   \n",
       "2  [1235695.063, 1235694.913, 1235694.763, 123568...  2679352.150   \n",
       "3  [1235881.311, 1235881.4070000001, 1235891.368,...  2679198.523   \n",
       "4  [1235437.204, 1235439.942, 1235449.409, 123544...  2679359.121   \n",
       "\n",
       "         min_X        max_Y        min_Y  \n",
       "0  2678908.705  1237322.447  1237292.967  \n",
       "1  2679333.743  1235713.846  1235701.348  \n",
       "2  2679326.308  1235703.172  1235676.180  \n",
       "3  2679184.730  1235891.613  1235876.798  \n",
       "4  2679348.918  1235449.409  1235437.204  "
      ]
     },
     "execution_count": 3,
     "metadata": {},
     "output_type": "execute_result"
    }
   ],
   "source": [
    "data.head()"
   ]
  },
  {
   "cell_type": "markdown",
   "id": "492f7d42-c255-4145-b5b7-196bb303268d",
   "metadata": {},
   "source": [
    "create label for each class"
   ]
  },
  {
   "cell_type": "code",
   "execution_count": 4,
   "id": "d4e26433-3852-49a8-886d-e85ea729cee1",
   "metadata": {},
   "outputs": [
    {
     "data": {
      "text/plain": [
       "{'Wohnen': 1,\n",
       " 'Nebengebaeude': 2,\n",
       " 'Landwirtschaft': 3,\n",
       " 'Industrie': 4,\n",
       " 'Verwaltung': 5,\n",
       " 'Handel': 6,\n",
       " 'Verkehr': 7,\n",
       " 'Gastgewerbe': 8}"
      ]
     },
     "execution_count": 4,
     "metadata": {},
     "output_type": "execute_result"
    }
   ],
   "source": [
    "labels = list(data.art.value_counts().index)\n",
    "classes = list(range(1,9))\n",
    "class_colors = dict()\n",
    "for i, j in enumerate(labels):\n",
    "    class_colors[j] = classes[i]\n",
    "class_colors"
   ]
  },
  {
   "cell_type": "code",
   "execution_count": 24,
   "id": "c3f77bd3-70ce-4ee3-afd3-95c5848e27f5",
   "metadata": {},
   "outputs": [],
   "source": [
    "input_path = r'./data_img_sliced/_zurich_balanced_125/'\n",
    "target_path = r'./data_img_sliced/_zurich_balanced_125_mask/'"
   ]
  },
  {
   "cell_type": "markdown",
   "id": "59488176-3cf6-44e3-9174-ee9dd69637a2",
   "metadata": {},
   "source": [
    "get original images filenames "
   ]
  },
  {
   "cell_type": "code",
   "execution_count": 14,
   "id": "e104138d-f16e-4fb1-a0ea-419affcb5cb1",
   "metadata": {},
   "outputs": [],
   "source": [
    "filenames = sorted(get_file_names(input_path))"
   ]
  },
  {
   "cell_type": "markdown",
   "id": "4378a39d-15de-4cbc-8a16-58598157668c",
   "metadata": {},
   "source": [
    "create dictionary of all buildings for each image"
   ]
  },
  {
   "cell_type": "code",
   "execution_count": 38,
   "id": "3be89773-3d7f-47bd-8c1c-a707a87a7aca",
   "metadata": {},
   "outputs": [],
   "source": [
    "IMG_SIZE = 125"
   ]
  },
  {
   "cell_type": "code",
   "execution_count": 20,
   "id": "1de09abb-cee8-47eb-9d2d-6e0475c3b73f",
   "metadata": {},
   "outputs": [],
   "source": [
    "#key - image name\n",
    "#value - all buildings in this image\n",
    "size_swiss_coord = 50\n",
    "buildings_img_125 = dict()\n",
    "for file in list(filenames[:10]):\n",
    "    xy = get_image_coordinates(file)\n",
    "    buildings = buildings_one_img(xy[0], xy[1], size_swiss_coord, IMG_SIZE)\n",
    "    if len(buildings):\n",
    "        buildings_img_125[file] = buildings"
   ]
  },
  {
   "cell_type": "code",
   "execution_count": 21,
   "id": "2aee272d-ff25-477f-b8dd-103978db3ed2",
   "metadata": {},
   "outputs": [
    {
     "data": {
      "text/plain": [
       "[('Landwirtschaft',\n",
       "  [(77.70250000059605, 20.18999999971129),\n",
       "   (43.04000000003725, -37.12500000023283),\n",
       "   (89.77500000037253, -65.43500000028871),\n",
       "   (108.59500000020489, -34.284999999799766),\n",
       "   (109.40750000067055, -34.777500000200234),\n",
       "   (111.19000000064261, -31.82749999978114),\n",
       "   (115.37750000017695, -34.3650000001071),\n",
       "   (129.37249999959022, -11.080000000074506),\n",
       "   (93.57250000000931, 10.584999999846332),\n",
       "   (77.70250000059605, 20.18999999971129)]),\n",
       " ('Landwirtschaft',\n",
       "  [(120.00499999965541, 87.92249999998603),\n",
       "   (108.82749999989755, 69.23750000016298),\n",
       "   (115.65000000060536, 65.12999999977183),\n",
       "   (103.72749999980442, 45.200000000186265),\n",
       "   (122.77750000008382, 33.73250000004191),\n",
       "   (135.97500000032596, 55.715000000200234),\n",
       "   (145.89999999967404, 72.24500000011176),\n",
       "   (120.00499999965541, 87.92249999998603)])]"
      ]
     },
     "execution_count": 21,
     "metadata": {},
     "output_type": "execute_result"
    }
   ],
   "source": [
    "buildings_img_125['swissimage-dop10_2019_2669600_1261150_4.0_2056.tif']"
   ]
  },
  {
   "cell_type": "markdown",
   "id": "427b91ff-4b84-4ed6-b66b-0e004b08338b",
   "metadata": {},
   "source": [
    "create and save masks"
   ]
  },
  {
   "cell_type": "code",
   "execution_count": 26,
   "id": "e337e352-cf8c-4455-95f0-490ab63e8fc8",
   "metadata": {},
   "outputs": [],
   "source": [
    "for file in buildings_img_125.keys():\n",
    "    save_mask(file, target_path, buildings_img_125, IMG_SIZE)"
   ]
  },
  {
   "cell_type": "code",
   "execution_count": 33,
   "id": "80b58e08-1d41-4ac5-9ae7-47a57d79f4f4",
   "metadata": {},
   "outputs": [
    {
     "data": {
      "image/png": "[encoded data removed]",
      "text/plain": [
       "<PIL.TiffImagePlugin.TiffImageFile image mode=RGB size=125x125 at 0x7FF8CC814E50>"
      ]
     },
     "execution_count": 33,
     "metadata": {},
     "output_type": "execute_result"
    }
   ],
   "source": [
    "Image.open(input_path + 'swissimage-dop10_2019_2669600_1261150_4.0_2056.tif')"
   ]
  },
  {
   "cell_type": "code",
   "execution_count": 37,
   "id": "44b93273-86c5-451e-8b50-f87d34805722",
   "metadata": {},
   "outputs": [
    {
     "data": {
      "image/png": "[encoded data removed]",
      "text/plain": [
       "<PIL.Image.Image image mode=L size=125x125 at 0x7FF8CB876D90>"
      ]
     },
     "execution_count": 37,
     "metadata": {},
     "output_type": "execute_result"
    }
   ],
   "source": [
    "mask = Image.open(target_path + 'mask_swissimage-dop10_2019_2669600_1261150_4.0_2056.tif')\n",
    "ImageOps.autocontrast(mask)"
   ]
  }
 ],
 "metadata": {
  "kernelspec": {
   "display_name": "propulsion",
   "language": "python",
   "name": "propulsion"
  },
  "language_info": {
   "codemirror_mode": {
    "name": "ipython",
    "version": 3
   },
   "file_extension": ".py",
   "mimetype": "text/x-python",
   "name": "python",
   "nbconvert_exporter": "python",
   "pygments_lexer": "ipython3",
   "version": "3.8.5"
  }
 },
 "nbformat": 4,
 "nbformat_minor": 5
}
