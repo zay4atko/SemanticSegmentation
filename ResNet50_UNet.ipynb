{
  "nbformat": 4,
  "nbformat_minor": 0,
  "metadata": {
    "accelerator": "GPU",
    "colab": {
      "name": "Kopie von ResNet50_UNet.ipynb",
      "provenance": [],
      "collapsed_sections": [],
      "machine_shape": "hm",
      "authorship_tag": "ABX9TyPbD5Pz+krzDN5/zL9syL3s"
    },
    "kernelspec": {
      "display_name": "Python 3",
      "name": "python3"
    },
    "language_info": {
      "name": "python"
    }
  },
  "cells": [
    {
      "cell_type": "code",
      "metadata": {
        "id": "4sSPh-7uAwKL",
        "colab": {
          "base_uri": "https://localhost:8080/"
        },
        "outputId": "942d9fa7-ca7f-4555-b542-28a5fc2d01bf"
      },
      "source": [
        "from google.colab import drive\n",
        "drive.mount('/gdrive', force_remount=True)"
      ],
      "execution_count": null,
      "outputs": [
        {
          "output_type": "stream",
          "text": [
            "Mounted at /gdrive\n"
          ],
          "name": "stdout"
        }
      ]
    },
    {
      "cell_type": "code",
      "metadata": {
        "id": "CjCGIHeRA6vS"
      },
      "source": [
        "# input_dir = '/gdrive/MyDrive/downsampled_250/'\n",
        "# target_dir = '/gdrive/MyDrive/downsampled_mask_250/'\n",
        "# input_dir = '/gdrive/MyDrive/Propulsion Academy/_zurich_balanced_125_aug/'\n",
        "# target_dir = '/gdrive/MyDrive/images_125_6classes/_zurich_balanced_125_aug_mask/'\n",
        "# input_dir = '/gdrive/MyDrive/Propulsion Academy/_switzerland_balanced_125_red/'\n",
        "# target_dir = '/gdrive/MyDrive/Propulsion Academy/_switzerland_balanced_125_mask_6classes/'\n",
        "input_dir = '/gdrive/MyDrive/Propulsion Academy/input'\n",
        "target_dir = '/gdrive/MyDrive/Propulsion Academy/target'"
      ],
      "execution_count": null,
      "outputs": []
    },
    {
      "cell_type": "code",
      "metadata": {
        "id": "58-tu5C34XTr"
      },
      "source": [
        "#extract images\n",
        "# import zipfile\n",
        "# path_to_zip = '/gdrive/MyDrive/Propulsion Academy/OSM_input.zip'\n",
        "# path_to_save = '/gdrive/MyDrive/Propulsion Academy/'\n",
        "# with zipfile.ZipFile(path_to_zip, 'r') as zip_ref:\n",
        "#         zip_ref.extractall(path_to_save)"
      ],
      "execution_count": null,
      "outputs": []
    },
    {
      "cell_type": "code",
      "metadata": {
        "id": "cKDxv1QZC1Na"
      },
      "source": [
        "from IPython.display import Image, display, clear_output\n",
        "from tensorflow.keras.preprocessing.image import load_img\n",
        "import PIL\n",
        "from PIL import ImageOps\n",
        "import os\n",
        "import tensorflow as tf\n",
        "import tensorflow_datasets as tfds\n"
      ],
      "execution_count": null,
      "outputs": []
    },
    {
      "cell_type": "code",
      "metadata": {
        "colab": {
          "base_uri": "https://localhost:8080/"
        },
        "id": "VO7AzX4zBGVN",
        "outputId": "e7ffb0a7-8122-4b9f-e08c-fc322344a2e2"
      },
      "source": [
        "img_size = (128, 128)\n",
        "num_classes = 7\n",
        "batch_size = 32\n",
        "\n",
        "input_img_paths = sorted(\n",
        "    [\n",
        "        os.path.join(input_dir, fname)\n",
        "        for fname in os.listdir(input_dir)\n",
        "        if fname.endswith(\".tif\")\n",
        "    ]\n",
        ")\n",
        "target_img_paths = sorted(\n",
        "    [\n",
        "        os.path.join(target_dir, fname)\n",
        "        for fname in os.listdir(target_dir)\n",
        "        if fname.endswith(\".tif\") and not fname.startswith(\".\")\n",
        "    ]\n",
        ")\n",
        "\n",
        "print(\"Number of samples:\", len(input_img_paths))\n",
        "\n",
        "for input_path, target_path in zip(input_img_paths[:10], target_img_paths[:10]):\n",
        "    print(input_path, \"|\", target_path)\n"
      ],
      "execution_count": null,
      "outputs": [
        {
          "output_type": "stream",
          "text": [
            "Number of samples: 184524\n",
            "/gdrive/MyDrive/Propulsion Academy/input/swissimage-dop10_2017_2585150-1110150_0.4_2056_h.tif | /gdrive/MyDrive/Propulsion Academy/target/mask_swissimage-dop10_2017_2585150-1110150_0.4_2056_h.tif\n",
            "/gdrive/MyDrive/Propulsion Academy/input/swissimage-dop10_2017_2585150-1110150_0.4_2056_v.tif | /gdrive/MyDrive/Propulsion Academy/target/mask_swissimage-dop10_2017_2585150-1110150_0.4_2056_v.tif\n",
            "/gdrive/MyDrive/Propulsion Academy/input/swissimage-dop10_2017_2585300-1114550_0.4_2056_h.tif | /gdrive/MyDrive/Propulsion Academy/target/mask_swissimage-dop10_2017_2585300-1114550_0.4_2056_h.tif\n",
            "/gdrive/MyDrive/Propulsion Academy/input/swissimage-dop10_2017_2585300-1114550_0.4_2056_v.tif | /gdrive/MyDrive/Propulsion Academy/target/mask_swissimage-dop10_2017_2585300-1114550_0.4_2056_v.tif\n",
            "/gdrive/MyDrive/Propulsion Academy/input/swissimage-dop10_2017_2585300-1114600_0.4_2056_h.tif | /gdrive/MyDrive/Propulsion Academy/target/mask_swissimage-dop10_2017_2585300-1114600_0.4_2056_h.tif\n",
            "/gdrive/MyDrive/Propulsion Academy/input/swissimage-dop10_2017_2585300-1114600_0.4_2056_v.tif | /gdrive/MyDrive/Propulsion Academy/target/mask_swissimage-dop10_2017_2585300-1114600_0.4_2056_v.tif\n",
            "/gdrive/MyDrive/Propulsion Academy/input/swissimage-dop10_2017_2585350-1114550_0.4_2056_h.tif | /gdrive/MyDrive/Propulsion Academy/target/mask_swissimage-dop10_2017_2585350-1114550_0.4_2056_h.tif\n",
            "/gdrive/MyDrive/Propulsion Academy/input/swissimage-dop10_2017_2585350-1114550_0.4_2056_v.tif | /gdrive/MyDrive/Propulsion Academy/target/mask_swissimage-dop10_2017_2585350-1114550_0.4_2056_v.tif\n",
            "/gdrive/MyDrive/Propulsion Academy/input/swissimage-dop10_2017_2585350-1114600_0.4_2056_h.tif | /gdrive/MyDrive/Propulsion Academy/target/mask_swissimage-dop10_2017_2585350-1114600_0.4_2056_h.tif\n",
            "/gdrive/MyDrive/Propulsion Academy/input/swissimage-dop10_2017_2585350-1114600_0.4_2056_v.tif | /gdrive/MyDrive/Propulsion Academy/target/mask_swissimage-dop10_2017_2585350-1114600_0.4_2056_v.tif\n"
          ],
          "name": "stdout"
        }
      ]
    },
    {
      "cell_type": "code",
      "metadata": {
        "colab": {
          "base_uri": "https://localhost:8080/"
        },
        "id": "GC_mZVFgBUwP",
        "outputId": "2a63ee32-6653-4bf1-f6f1-617a84fb360e"
      },
      "source": [
        "len(input_img_paths), len(target_img_paths)"
      ],
      "execution_count": null,
      "outputs": [
        {
          "output_type": "execute_result",
          "data": {
            "text/plain": [
              "(184524, 184524)"
            ]
          },
          "metadata": {
            "tags": []
          },
          "execution_count": 17
        }
      ]
    },
    {
      "cell_type": "code",
      "metadata": {
        "colab": {
          "base_uri": "https://localhost:8080/"
        },
        "id": "qcBNeW4yCbCk",
        "outputId": "58b66126-89e0-44fe-9ebf-9361d2da401f"
      },
      "source": [
        "target_img_paths[10:20]"
      ],
      "execution_count": null,
      "outputs": [
        {
          "output_type": "execute_result",
          "data": {
            "text/plain": [
              "['/gdrive/MyDrive/Propulsion Academy/target/mask_swissimage-dop10_2017_2585400-1114600_0.4_2056_h.tif',\n",
              " '/gdrive/MyDrive/Propulsion Academy/target/mask_swissimage-dop10_2017_2585400-1114600_0.4_2056_v.tif',\n",
              " '/gdrive/MyDrive/Propulsion Academy/target/mask_swissimage-dop10_2017_2585500-1112750_0.4_2056_h.tif',\n",
              " '/gdrive/MyDrive/Propulsion Academy/target/mask_swissimage-dop10_2017_2585500-1112750_0.4_2056_v.tif',\n",
              " '/gdrive/MyDrive/Propulsion Academy/target/mask_swissimage-dop10_2017_2585650-1115700_0.4_2056_h.tif',\n",
              " '/gdrive/MyDrive/Propulsion Academy/target/mask_swissimage-dop10_2017_2585650-1115700_0.4_2056_v.tif',\n",
              " '/gdrive/MyDrive/Propulsion Academy/target/mask_swissimage-dop10_2017_2585700-1115600_0.4_2056_h.tif',\n",
              " '/gdrive/MyDrive/Propulsion Academy/target/mask_swissimage-dop10_2017_2585700-1115600_0.4_2056_v.tif',\n",
              " '/gdrive/MyDrive/Propulsion Academy/target/mask_swissimage-dop10_2017_2585750-1117700_0.4_2056_h.tif',\n",
              " '/gdrive/MyDrive/Propulsion Academy/target/mask_swissimage-dop10_2017_2585750-1117700_0.4_2056_v.tif']"
            ]
          },
          "metadata": {
            "tags": []
          },
          "execution_count": 18
        }
      ]
    },
    {
      "cell_type": "code",
      "metadata": {
        "colab": {
          "base_uri": "https://localhost:8080/",
          "height": 267
        },
        "id": "5jg1HhayBI0h",
        "outputId": "44237185-a7a4-400a-d7f8-379dc1c2f70b"
      },
      "source": [
        "# Display input image #7\n",
        "display(PIL.Image.open(input_img_paths[90137]))\n",
        "\n",
        "# Display auto-contrast version of corresponding target (per-pixel categories)\n",
        "img = PIL.ImageOps.autocontrast(load_img(target_img_paths[90137]))\n",
        "display(img)"
      ],
      "execution_count": null,
      "outputs": [
        {
          "output_type": "display_data",
          "data": {
            "image/png": "[encoded data removed]",
            "text/plain": [
              "<PIL.TiffImagePlugin.TiffImageFile image mode=RGB size=125x125 at 0x7F1C7DAC5410>"
            ]
          },
          "metadata": {
            "tags": []
          }
        },
        {
          "output_type": "display_data",
          "data": {
            "image/png": "[encoded data removed]",
            "text/plain": [
              "<PIL.Image.Image image mode=RGB size=125x125 at 0x7F1C7DAC5110>"
            ]
          },
          "metadata": {
            "tags": []
          }
        }
      ]
    },
    {
      "cell_type": "code",
      "metadata": {
        "id": "dAQTNuv8BPd9"
      },
      "source": [
        "from tensorflow import keras\n",
        "import numpy as np\n",
        "from tensorflow.keras.preprocessing.image import load_img\n",
        "\n",
        "\n",
        "class geoswiss(keras.utils.Sequence):\n",
        "    \"\"\"Helper to iterate over the data (as Numpy arrays).\"\"\"\n",
        "\n",
        "    def __init__(self, batch_size, img_size, input_img_paths, target_img_paths):\n",
        "        self.batch_size = batch_size\n",
        "        self.img_size = img_size\n",
        "        self.input_img_paths = input_img_paths\n",
        "        self.target_img_paths = target_img_paths\n",
        "\n",
        "    def __len__(self):\n",
        "        return len(self.target_img_paths) // self.batch_size\n",
        "\n",
        "    def __getitem__(self, idx):\n",
        "        \"\"\"Returns tuple (input, target) correspond to batch #idx.\"\"\"\n",
        "        i = idx * self.batch_size\n",
        "        batch_input_img_paths = self.input_img_paths[i : i + self.batch_size]\n",
        "        batch_target_img_paths = self.target_img_paths[i : i + self.batch_size]\n",
        "        x = np.zeros((self.batch_size,) + self.img_size + (3,), dtype=\"float32\")\n",
        "        for j, path in enumerate(batch_input_img_paths):\n",
        "            img = load_img(path, target_size=self.img_size)\n",
        "            x[j] = img\n",
        "        y = np.zeros((self.batch_size,) + self.img_size + (1,), dtype=\"uint8\")\n",
        "        for j, path in enumerate(batch_target_img_paths):\n",
        "            img = load_img(path, target_size=self.img_size, color_mode=\"grayscale\")\n",
        "            y[j] = np.expand_dims(img, 2)\n",
        "        return x, y"
      ],
      "execution_count": null,
      "outputs": []
    },
    {
      "cell_type": "code",
      "metadata": {
        "id": "D8o1wSIjBX_4"
      },
      "source": [
        "import random\n",
        "\n",
        "# Split our img paths into a training, validation and a test set\n",
        "train_samples = int(len(input_img_paths) * 0.8 * 0.8)\n",
        "val_samples = int(len(input_img_paths) * 0.8)\n",
        "random.Random(1337).shuffle(input_img_paths)\n",
        "random.Random(1337).shuffle(target_img_paths)\n",
        "train_input_img_paths = input_img_paths[:train_samples]\n",
        "train_target_img_paths = target_img_paths[:train_samples]\n",
        "val_input_img_paths = input_img_paths[train_samples:val_samples]\n",
        "val_target_img_paths = target_img_paths[train_samples:val_samples]\n",
        "test_input_img_paths = input_img_paths[val_samples:]\n",
        "test_target_img_paths = target_img_paths[val_samples:]\n",
        "\n",
        "# Instantiate data Sequences for each split\n",
        "train_gen = geoswiss(batch_size, img_size, train_input_img_paths, train_target_img_paths)\n",
        "val_gen = geoswiss(batch_size, img_size, val_input_img_paths, val_target_img_paths)\n",
        "test_gen = geoswiss(batch_size, img_size, test_input_img_paths, test_target_img_paths)"
      ],
      "execution_count": null,
      "outputs": []
    },
    {
      "cell_type": "code",
      "metadata": {
        "id": "bciJbHV-7VY-"
      },
      "source": [
        "# UNet Model by @nikhilroxtomar\n",
        "\n",
        "\n",
        "# from tensorflow.keras.layers import Conv2D, BatchNormalization, Activation, MaxPool2D, Conv2DTranspose, Concatenate, Input\n",
        "# from tensorflow.keras.models import Model\n",
        "# from tensorflow.keras.applications import ResNet50\n",
        "\n",
        "# def conv_block(input, num_filters):\n",
        "#     x = Conv2D(num_filters, 3, padding=\"same\")(input)\n",
        "#     x = BatchNormalization()(x)\n",
        "#     x = Activation(\"relu\")(x)\n",
        "\n",
        "#     x = Conv2D(num_filters, 3, padding=\"same\")(x)\n",
        "#     x = BatchNormalization()(x)\n",
        "#     x = Activation(\"relu\")(x)\n",
        "\n",
        "#     return x\n",
        "\n",
        "# def decoder_block(input, skip_features, num_filters):\n",
        "#     x = Conv2DTranspose(num_filters, (2, 2), strides=2, padding=\"same\")(input)\n",
        "#     x = Concatenate()([x, skip_features])\n",
        "#     x = conv_block(x, num_filters)\n",
        "#     return x\n",
        "\n",
        "# def build_resnet50_unet(input_shape):\n",
        "#     \"\"\" Input \"\"\"\n",
        "#     inputs = Input(input_shape)\n",
        "\n",
        "#     \"\"\" Pre-trained ResNet50 Model \"\"\"\n",
        "#     resnet50 = ResNet50(include_top=False, weights=\"imagenet\", input_tensor=inputs)\n",
        "\n",
        "#     \"\"\" Encoder \"\"\"\n",
        "#     s1 = resnet50.get_layer(\"input_1\").output           ## (512 x 512) 128\n",
        "#     s2 = resnet50.get_layer(\"conv1_relu\").output        ## (256 x 256) 64\n",
        "#     s3 = resnet50.get_layer(\"conv2_block3_out\").output  ## (128 x 128) 32\n",
        "#     s4 = resnet50.get_layer(\"conv3_block4_out\").output  ## (64 x 64) 16\n",
        "\n",
        "#     \"\"\" Bridge \"\"\"\n",
        "#     b1 = resnet50.get_layer(\"conv4_block6_out\").output  ## (32 x 32)\n",
        "\n",
        "#     \"\"\" Decoder \"\"\"\n",
        "#     d1 = decoder_block(b1, s4, 512)                     ## (64 x 64)\n",
        "#     d2 = decoder_block(d1, s3, 256)                     ## (128 x 128)\n",
        "#     d3 = decoder_block(d2, s2, 128)                     ## (256 x 256)\n",
        "#     d4 = decoder_block(d3, s1, 64)                      ## (512 x 512)\n",
        "\n",
        "#     \"\"\" Output \"\"\"\n",
        "#     outputs = Conv2D(7, 1, padding=\"same\", activation=\"softmax\")(d4)\n",
        "\n",
        "#     model = Model(inputs, outputs)\n",
        "#     return model\n",
        "\n",
        "\n",
        "# input_shape = (128, 128, 3)\n",
        "# model = build_resnet50_unet(input_shape)\n",
        "# model.summary()"
      ],
      "execution_count": null,
      "outputs": []
    },
    {
      "cell_type": "code",
      "metadata": {
        "colab": {
          "base_uri": "https://localhost:8080/"
        },
        "id": "TyjFXF59CRfG",
        "outputId": "2a160427-215b-4c12-8137-9424a5b164ce"
      },
      "source": [
        "# model = keras.models.load_model('/gdrive/MyDrive/Propulsion Academy/models/save_ResNet50_UNet_125_6classes.h5')\n",
        "# model.load_weights(\"/gdrive/MyDrive/Propulsion Academy/models/weights_ResNet50_UNet_125_6classes.ckpt\")\n",
        "model = keras.models.load_model('/gdrive/MyDrive/temp/ResNet50/save_ResNet50_UNet_125_6classes.h5')\n",
        "model.load_weights('/gdrive/MyDrive/temp/ResNet50/weights_ResNet50_UNet_125_6classes.ckpt')"
      ],
      "execution_count": null,
      "outputs": [
        {
          "output_type": "execute_result",
          "data": {
            "text/plain": [
              "<tensorflow.python.training.tracking.util.CheckpointLoadStatus at 0x7f1c7ad46550>"
            ]
          },
          "metadata": {
            "tags": []
          },
          "execution_count": 23
        }
      ]
    },
    {
      "cell_type": "code",
      "metadata": {
        "id": "DBrDVm8oBZIS"
      },
      "source": [
        "callbacks = [\n",
        "    keras.callbacks.ModelCheckpoint(\"/gdrive/MyDrive/Propulsion Academy/models/ResNet50_UNet_125_6classes_25May.h5\", \n",
        "                                    save_best_only=True),\n",
        "    #keras.callbacks.EarlyStopping(patience=5, restore_best_weights=True, min_delta=.001)\n",
        " \n",
        "]"
      ],
      "execution_count": null,
      "outputs": []
    },
    {
      "cell_type": "code",
      "metadata": {
        "id": "NFn6nM7V8MTj"
      },
      "source": [
        "#model.compile(optimizer=keras.optimizers.Adam(lr=1e-3), loss=\"sparse_categorical_crossentropy\" , metrics=[keras.metrics.SparseCategoricalAccuracy()])\n",
        "\n",
        "# Train the model, doing validation at the end of each epoch.\n",
        "epochs = 1\n",
        "model_history = model.fit(train_gen, epochs=epochs, validation_data=val_gen, callbacks=callbacks)"
      ],
      "execution_count": null,
      "outputs": []
    },
    {
      "cell_type": "code",
      "metadata": {
        "id": "qS7qaI3TDUMr"
      },
      "source": [
        "model.save('/gdrive/MyDrive/Propulsion Academy/models/save_ResNet50_UNet_125_6classes.h5')\n",
        "model.save_weights(\"/gdrive/MyDrive/Propulsion Academy/models/weights_ResNet50_UNet_125_6classes.ckpt\")"
      ],
      "execution_count": null,
      "outputs": []
    },
    {
      "cell_type": "code",
      "metadata": {
        "id": "1LJgXE7BU0e2"
      },
      "source": [
        "new_epochs = 9\n",
        "epochs += new_epochs\n",
        "model_history = model.fit(train_gen, epochs=epochs, \n",
        "                                initial_epoch=model_history.epoch[-1]+1,\n",
        "                                validation_data=val_gen, callbacks=callbacks)"
      ],
      "execution_count": null,
      "outputs": []
    },
    {
      "cell_type": "code",
      "metadata": {
        "id": "RvCxafJtitqN"
      },
      "source": [
        "test_gen = geoswiss(batch_size, img_size, test_input_img_paths[:512], test_target_img_paths[:512])\n",
        "test_preds = model.predict(test_gen, verbose=1)"
      ],
      "execution_count": null,
      "outputs": []
    },
    {
      "cell_type": "code",
      "metadata": {
        "id": "ifNyOGhGi0A-"
      },
      "source": [
        "def display_mask(i):\n",
        "    \"\"\"Quick utility to display a model's prediction.\"\"\"\n",
        "    mask = np.argmax(test_preds[i], axis=-1)\n",
        "    mask = np.expand_dims(mask, axis=-1)\n",
        "    img = keras.preprocessing.image.array_to_img(mask)\n",
        "    display(img)\n",
        "\n",
        "\n",
        "# Display results for validation image #10\n",
        "i = 179\n",
        "\n",
        "# Display input image\n",
        "#display(Image(filename=val_input_img_paths[i]))\n",
        "img = (load_img(test_input_img_paths[i]))\n",
        "display(img)\n",
        "\n",
        "\n",
        "# Display ground-truth target mask\n",
        "img = PIL.ImageOps.autocontrast(load_img(test_target_img_paths[i]))\n",
        "display(img)\n",
        "\n",
        "# Display mask predicted by our model\n",
        "display_mask(i) "
      ],
      "execution_count": null,
      "outputs": []
    }
  ]
}